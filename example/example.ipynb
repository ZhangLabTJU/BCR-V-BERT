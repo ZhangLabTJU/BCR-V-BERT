{
 "cells": [
  {
   "cell_type": "code",
   "execution_count": 1,
   "metadata": {},
   "outputs": [],
   "source": [
    "import os\n",
    "import sys\n",
    "import pandas as pd\n",
    "import numpy as np\n",
    "\n",
    "from BCR_V_BERT import BCR_V_BERT_Runner\n",
    "\n",
    "BCR_V_BERT = BCR_V_BERT_Runner(model='cdrh')\n",
    "\n",
    "data = pd.read_csv('data/example_heavy_antibody.csv')\n",
    "sequence = data['cdr'].values\n",
    "vgenes = data['vgene'].values\n",
    "embeddings = BCR_V_BERT.embed(sequence,vgenes)"
   ]
  },
  {
   "cell_type": "code",
   "execution_count": 2,
   "metadata": {},
   "outputs": [
    {
     "ename": "FileNotFoundError",
     "evalue": "[Errno 2] No such file or directory: '/home/user/anaconda3/envs/esm/lib/python3.9/site-packages/BCR_V_BERT-1.0.4-py3.9.egg/BCR_V_BERT/model_pretrained/cdrh3/v_vocab.npy'",
     "output_type": "error",
     "traceback": [
      "\u001b[0;31m---------------------------------------------------------------------------\u001b[0m",
      "\u001b[0;31mFileNotFoundError\u001b[0m                         Traceback (most recent call last)",
      "Cell \u001b[0;32mIn[2], line 11\u001b[0m\n\u001b[1;32m      9\u001b[0m \u001b[38;5;66;03m# Embeddings\u001b[39;00m\n\u001b[1;32m     10\u001b[0m cdrh_embeddings \u001b[38;5;241m=\u001b[39m cdrh_model\u001b[38;5;241m.\u001b[39membed([cdrh1_seq\u001b[38;5;241m+\u001b[39m\u001b[38;5;124m'\u001b[39m\u001b[38;5;124m|\u001b[39m\u001b[38;5;124m'\u001b[39m\u001b[38;5;241m+\u001b[39mcdrh2_seq\u001b[38;5;241m+\u001b[39m\u001b[38;5;124m'\u001b[39m\u001b[38;5;124m|\u001b[39m\u001b[38;5;124m'\u001b[39m\u001b[38;5;241m+\u001b[39mcdrh3_seq],[vgene])\n\u001b[0;32m---> 11\u001b[0m cdrh3_embeddings \u001b[38;5;241m=\u001b[39m \u001b[43mcdrh3_model\u001b[49m\u001b[38;5;241;43m.\u001b[39;49m\u001b[43membed\u001b[49m\u001b[43m(\u001b[49m\u001b[43m[\u001b[49m\u001b[43mcdrh3_seq\u001b[49m\u001b[43m]\u001b[49m\u001b[43m,\u001b[49m\u001b[43m[\u001b[49m\u001b[43mvgene\u001b[49m\u001b[43m]\u001b[49m\u001b[43m)\u001b[49m\n",
      "File \u001b[0;32m~/anaconda3/envs/esm/lib/python3.9/site-packages/BCR_V_BERT-1.0.4-py3.9.egg/BCR_V_BERT/BCR_V_BERT_Runner.py:52\u001b[0m, in \u001b[0;36mBCR_V_BERT_Runner.embed\u001b[0;34m(self, sequences, vgenes, hidden_layer)\u001b[0m\n\u001b[1;32m     49\u001b[0m max_len_rounded \u001b[38;5;241m=\u001b[39m \u001b[38;5;28mint\u001b[39m(tk\u001b[38;5;241m.\u001b[39mmin_power_greater_than(max_len\u001b[38;5;241m+\u001b[39m\u001b[38;5;241m2\u001b[39m, base\u001b[38;5;241m=\u001b[39m\u001b[38;5;241m2\u001b[39m))\n\u001b[1;32m     50\u001b[0m tok \u001b[38;5;241m=\u001b[39m get_aa_bert_tokenizer(max_len_rounded)\n\u001b[0;32m---> 52\u001b[0m v_vocab\u001b[38;5;241m=\u001b[39m\u001b[43mnp\u001b[49m\u001b[38;5;241;43m.\u001b[39;49m\u001b[43mload\u001b[49m\u001b[43m(\u001b[49m\u001b[43mos\u001b[49m\u001b[38;5;241;43m.\u001b[39;49m\u001b[43mpath\u001b[49m\u001b[38;5;241;43m.\u001b[39;49m\u001b[43mjoin\u001b[49m\u001b[43m(\u001b[49m\u001b[38;5;28;43mself\u001b[39;49m\u001b[38;5;241;43m.\u001b[39;49m\u001b[43mpath_model\u001b[49m\u001b[43m,\u001b[49m\u001b[38;5;124;43m'\u001b[39;49m\u001b[38;5;124;43mv_vocab.npy\u001b[39;49m\u001b[38;5;124;43m'\u001b[39;49m\u001b[43m)\u001b[49m\u001b[43m,\u001b[49m\u001b[43mallow_pickle\u001b[49m\u001b[38;5;241;43m=\u001b[39;49m\u001b[38;5;28;43;01mTrue\u001b[39;49;00m\u001b[43m)\u001b[49m\n\u001b[1;32m     53\u001b[0m v_vocab \u001b[38;5;241m=\u001b[39m v_vocab\u001b[38;5;241m.\u001b[39mtolist()\n\u001b[1;32m     54\u001b[0m vgene_tensors \u001b[38;5;241m=\u001b[39m [v_vocab\u001b[38;5;241m.\u001b[39mindex(vgene) \u001b[38;5;28;01mfor\u001b[39;00m vgene \u001b[38;5;129;01min\u001b[39;00m vgenes]\n",
      "File \u001b[0;32m~/.local/lib/python3.9/site-packages/numpy/lib/npyio.py:390\u001b[0m, in \u001b[0;36mload\u001b[0;34m(file, mmap_mode, allow_pickle, fix_imports, encoding)\u001b[0m\n\u001b[1;32m    388\u001b[0m     own_fid \u001b[38;5;241m=\u001b[39m \u001b[38;5;28;01mFalse\u001b[39;00m\n\u001b[1;32m    389\u001b[0m \u001b[38;5;28;01melse\u001b[39;00m:\n\u001b[0;32m--> 390\u001b[0m     fid \u001b[38;5;241m=\u001b[39m stack\u001b[38;5;241m.\u001b[39menter_context(\u001b[38;5;28;43mopen\u001b[39;49m\u001b[43m(\u001b[49m\u001b[43mos_fspath\u001b[49m\u001b[43m(\u001b[49m\u001b[43mfile\u001b[49m\u001b[43m)\u001b[49m\u001b[43m,\u001b[49m\u001b[43m \u001b[49m\u001b[38;5;124;43m\"\u001b[39;49m\u001b[38;5;124;43mrb\u001b[39;49m\u001b[38;5;124;43m\"\u001b[39;49m\u001b[43m)\u001b[49m)\n\u001b[1;32m    391\u001b[0m     own_fid \u001b[38;5;241m=\u001b[39m \u001b[38;5;28;01mTrue\u001b[39;00m\n\u001b[1;32m    393\u001b[0m \u001b[38;5;66;03m# Code to distinguish from NumPy binary files and pickles.\u001b[39;00m\n",
      "\u001b[0;31mFileNotFoundError\u001b[0m: [Errno 2] No such file or directory: '/home/user/anaconda3/envs/esm/lib/python3.9/site-packages/BCR_V_BERT-1.0.4-py3.9.egg/BCR_V_BERT/model_pretrained/cdrh3/v_vocab.npy'"
     ]
    }
   ],
   "source": [
    "cdrh_model = BCR_V_BERT_Runner(model = 'cdrh')\n",
    "cdrh3_model = BCR_V_BERT_Runner(model = 'cdrh3')\n",
    "\n",
    "cdrh1_seq = 'GFTISDYW'\n",
    "cdrh2_seq = 'ITPAGGYT'\n",
    "cdrh3_seq = 'ARFVFFLPYAMDY'\n",
    "vgene = 'IGHV1-52'\n",
    "\n",
    "# Embeddings\n",
    "cdrh_embeddings = cdrh_model.embed([cdrh1_seq+'|'+cdrh2_seq+'|'+cdrh3_seq],[vgene])\n",
    "cdrh3_embeddings = cdrh3_model.embed([cdrh3_seq],[vgene])"
   ]
  }
 ],
 "metadata": {
  "language_info": {
   "name": "python"
  }
 },
 "nbformat": 4,
 "nbformat_minor": 2
}
