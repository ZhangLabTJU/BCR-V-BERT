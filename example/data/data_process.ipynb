{
 "cells": [
  {
   "cell_type": "code",
   "execution_count": 3,
   "metadata": {},
   "outputs": [
    {
     "name": "stdout",
     "output_type": "stream",
     "text": [
      "740112\n",
      "                          cdr     vgene  count\n",
      "0   GGSFSGYY|INHSGST|ARGRWFDP  IGHV4-34    149\n",
      "1    GFTFSSYA|ISYDGSNK|ARDLDY  IGHV3-30    144\n",
      "2     GGSISSYY|IYYSGST|ARGFDY  IGHV4-59    130\n",
      "3   GGSFSGYY|INHSGST|ARGNWFDP  IGHV4-34    126\n",
      "4  GFTFSSYW|IKQDGSEK|ATSRTFDY   IGHV3-7    120\n"
     ]
    }
   ],
   "source": [
    "import pandas as pd\n",
    "import numpy as np\n",
    "\n",
    "data = pd.read_csv('p_n_hdf.csv')\n",
    "print(len(data))\n",
    "print(data.head())"
   ]
  },
  {
   "cell_type": "code",
   "execution_count": 4,
   "metadata": {},
   "outputs": [],
   "source": [
    "example_heavy_antibody = data.sample(100,random_state=2024)\n",
    "example_heavy_antibody = example_heavy_antibody[['cdr','vgene']]\n",
    "example_heavy_antibody.to_csv('example_heavy_antibody.csv',index=False) # example_light_antibody"
   ]
  }
 ],
 "metadata": {
  "language_info": {
   "name": "python"
  }
 },
 "nbformat": 4,
 "nbformat_minor": 2
}
